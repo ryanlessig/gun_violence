{
 "cells": [
  {
   "cell_type": "code",
   "execution_count": 2,
   "metadata": {},
   "outputs": [],
   "source": [
    "import pandas as pd\n",
    "import numpy as np"
   ]
  },
  {
   "cell_type": "code",
   "execution_count": 5,
   "metadata": {},
   "outputs": [],
   "source": [
    "# load the file\n",
    "load_incident_data_2014_19 = \"incident_data_for_charts.csv\"\n",
    "\n",
    "# read into a dataframe\n",
    "incident_data_2014_19 = pd.read_csv(load_incident_data_2014_19)"
   ]
  },
  {
   "cell_type": "code",
   "execution_count": 10,
   "metadata": {},
   "outputs": [
    {
     "data": {
      "text/html": [
       "<div>\n",
       "<style scoped>\n",
       "    .dataframe tbody tr th:only-of-type {\n",
       "        vertical-align: middle;\n",
       "    }\n",
       "\n",
       "    .dataframe tbody tr th {\n",
       "        vertical-align: top;\n",
       "    }\n",
       "\n",
       "    .dataframe thead th {\n",
       "        text-align: right;\n",
       "    }\n",
       "</style>\n",
       "<table border=\"1\" class=\"dataframe\">\n",
       "  <thead>\n",
       "    <tr style=\"text-align: right;\">\n",
       "      <th></th>\n",
       "      <th>event_date</th>\n",
       "      <th>year</th>\n",
       "      <th>month_number</th>\n",
       "      <th>season</th>\n",
       "      <th>num_incidents</th>\n",
       "      <th>num_injured</th>\n",
       "      <th>num_killed</th>\n",
       "      <th>num_injured_or_killed</th>\n",
       "      <th>days_since_prev_incident</th>\n",
       "    </tr>\n",
       "  </thead>\n",
       "  <tbody>\n",
       "    <tr>\n",
       "      <th>0</th>\n",
       "      <td>1-Jan-14</td>\n",
       "      <td>2014</td>\n",
       "      <td>1</td>\n",
       "      <td>Winter</td>\n",
       "      <td>1</td>\n",
       "      <td>2</td>\n",
       "      <td>2</td>\n",
       "      <td>4</td>\n",
       "      <td>NaN</td>\n",
       "    </tr>\n",
       "    <tr>\n",
       "      <th>1</th>\n",
       "      <td>3-Jan-14</td>\n",
       "      <td>2014</td>\n",
       "      <td>1</td>\n",
       "      <td>Winter</td>\n",
       "      <td>1</td>\n",
       "      <td>3</td>\n",
       "      <td>1</td>\n",
       "      <td>4</td>\n",
       "      <td>2.0</td>\n",
       "    </tr>\n",
       "    <tr>\n",
       "      <th>2</th>\n",
       "      <td>5-Jan-14</td>\n",
       "      <td>2014</td>\n",
       "      <td>1</td>\n",
       "      <td>Winter</td>\n",
       "      <td>1</td>\n",
       "      <td>3</td>\n",
       "      <td>1</td>\n",
       "      <td>4</td>\n",
       "      <td>2.0</td>\n",
       "    </tr>\n",
       "    <tr>\n",
       "      <th>3</th>\n",
       "      <td>11-Jan-14</td>\n",
       "      <td>2014</td>\n",
       "      <td>1</td>\n",
       "      <td>Winter</td>\n",
       "      <td>1</td>\n",
       "      <td>4</td>\n",
       "      <td>0</td>\n",
       "      <td>4</td>\n",
       "      <td>6.0</td>\n",
       "    </tr>\n",
       "    <tr>\n",
       "      <th>4</th>\n",
       "      <td>12-Jan-14</td>\n",
       "      <td>2014</td>\n",
       "      <td>1</td>\n",
       "      <td>Winter</td>\n",
       "      <td>3</td>\n",
       "      <td>16</td>\n",
       "      <td>0</td>\n",
       "      <td>16</td>\n",
       "      <td>1.0</td>\n",
       "    </tr>\n",
       "  </tbody>\n",
       "</table>\n",
       "</div>"
      ],
      "text/plain": [
       "  event_date  year  month_number  season  num_incidents  num_injured  \\\n",
       "0   1-Jan-14  2014             1  Winter              1            2   \n",
       "1   3-Jan-14  2014             1  Winter              1            3   \n",
       "2   5-Jan-14  2014             1  Winter              1            3   \n",
       "3  11-Jan-14  2014             1  Winter              1            4   \n",
       "4  12-Jan-14  2014             1  Winter              3           16   \n",
       "\n",
       "   num_killed  num_injured_or_killed  days_since_prev_incident  \n",
       "0           2                      4                       NaN  \n",
       "1           1                      4                       2.0  \n",
       "2           1                      4                       2.0  \n",
       "3           0                      4                       6.0  \n",
       "4           0                     16                       1.0  "
      ]
     },
     "execution_count": 10,
     "metadata": {},
     "output_type": "execute_result"
    }
   ],
   "source": [
    "# verify\n",
    "incident_data_2014_19.head()"
   ]
  },
  {
   "cell_type": "code",
   "execution_count": 33,
   "metadata": {},
   "outputs": [
    {
     "data": {
      "text/plain": [
       "year\n",
       "2014    269\n",
       "2015    335\n",
       "2016    382\n",
       "2017    346\n",
       "2018    340\n",
       "Name: num_incidents, dtype: int64"
      ]
     },
     "execution_count": 33,
     "metadata": {},
     "output_type": "execute_result"
    }
   ],
   "source": [
    "# create dataframe for chart 1, count of incidents per year\n",
    "grp_incidents_by_year = pd.DataFrame(incident_data_2014_19, columns=[\"event_date\", \"year\", \"num_incidents\", \"month_number\"])\n",
    "\n",
    "# limit dataframe to years 2014-2018 for apples-to-apples comparison\n",
    "get_2014_18_data = grp_incidents_by_year.loc[grp_incidents_by_year['year']!=2019]\n",
    "\n",
    "# create dataframe for chart #1 that counts incidents by year but excludes 2019\n",
    "incidents_by_year_1418 = get_2014_18_data.groupby(\"year\")[\"num_incidents\"].sum()\n",
    "incidents_by_year_1418"
   ]
  },
  {
   "cell_type": "code",
   "execution_count": 35,
   "metadata": {},
   "outputs": [
    {
     "data": {
      "text/plain": [
       "year\n",
       "2014    150\n",
       "2015    195\n",
       "2016    215\n",
       "2017    213\n",
       "2018    203\n",
       "2019    244\n",
       "Name: num_incidents, dtype: int64"
      ]
     },
     "execution_count": 35,
     "metadata": {},
     "output_type": "execute_result"
    }
   ],
   "source": [
    "# create dataframe for 2014-2019 trend Jan-July\n",
    "# limit dataframe to months Jan-July for apples-to-apples comparison\n",
    "get_janjuly_data = grp_incidents_by_year.loc[grp_incidents_by_year['month_number'] <= 7]\n",
    "get_janjuly_data\n",
    "\n",
    "# create dataframe for chart #2 that counts incidents jan-july for 2014-2019\n",
    "incidents_by_year_janjuly = get_janjuly_data.groupby(\"year\")[\"num_incidents\"].sum()\n",
    "incidents_by_year_janjuly"
   ]
  }
 ],
 "metadata": {
  "kernelspec": {
   "display_name": "Python 3",
   "language": "python",
   "name": "python3"
  },
  "language_info": {
   "codemirror_mode": {
    "name": "ipython",
    "version": 3
   },
   "file_extension": ".py",
   "mimetype": "text/x-python",
   "name": "python",
   "nbconvert_exporter": "python",
   "pygments_lexer": "ipython3",
   "version": "3.7.3"
  }
 },
 "nbformat": 4,
 "nbformat_minor": 2
}
